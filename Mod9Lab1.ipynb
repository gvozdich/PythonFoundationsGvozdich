{
 "cells": [
  {
   "cell_type": "code",
   "execution_count": 1,
   "metadata": {
    "collapsed": true
   },
   "outputs": [],
   "source": [
    "import pandas as pd\n",
    "import matplotlib.pyplot as plt\n",
    "\n",
    "# run plots in the notebook\n",
    "%matplotlib inline"
   ]
  },
  {
   "cell_type": "code",
   "execution_count": 2,
   "metadata": {
    "collapsed": true
   },
   "outputs": [],
   "source": [
    "url = \"http://pbpython.com/extras/sample-salesv2.csv\"\n",
    "\n",
    "sales = pd.read_csv(url)"
   ]
  },
  {
   "cell_type": "code",
   "execution_count": 3,
   "metadata": {
    "collapsed": true
   },
   "outputs": [],
   "source": [
    "sales.columns = ['acct_num', 'name', 'sku', 'category', 'quantity', 'unit_price', 'ext_price', 'date']"
   ]
  },
  {
   "cell_type": "code",
   "execution_count": 4,
   "metadata": {},
   "outputs": [
    {
     "data": {
      "text/html": [
       "<div>\n",
       "<style>\n",
       "    .dataframe thead tr:only-child th {\n",
       "        text-align: right;\n",
       "    }\n",
       "\n",
       "    .dataframe thead th {\n",
       "        text-align: left;\n",
       "    }\n",
       "\n",
       "    .dataframe tbody tr th {\n",
       "        vertical-align: top;\n",
       "    }\n",
       "</style>\n",
       "<table border=\"1\" class=\"dataframe\">\n",
       "  <thead>\n",
       "    <tr style=\"text-align: right;\">\n",
       "      <th></th>\n",
       "      <th>acct_num</th>\n",
       "      <th>name</th>\n",
       "      <th>sku</th>\n",
       "      <th>category</th>\n",
       "      <th>quantity</th>\n",
       "      <th>unit_price</th>\n",
       "      <th>ext_price</th>\n",
       "      <th>date</th>\n",
       "    </tr>\n",
       "  </thead>\n",
       "  <tbody>\n",
       "    <tr>\n",
       "      <th>0</th>\n",
       "      <td>296809</td>\n",
       "      <td>Carroll PLC</td>\n",
       "      <td>QN-82852</td>\n",
       "      <td>Belt</td>\n",
       "      <td>13</td>\n",
       "      <td>44.48</td>\n",
       "      <td>578.24</td>\n",
       "      <td>2014-09-27 07:13:03</td>\n",
       "    </tr>\n",
       "    <tr>\n",
       "      <th>1</th>\n",
       "      <td>98022</td>\n",
       "      <td>Heidenreich-Bosco</td>\n",
       "      <td>MJ-21460</td>\n",
       "      <td>Shoes</td>\n",
       "      <td>19</td>\n",
       "      <td>53.62</td>\n",
       "      <td>1018.78</td>\n",
       "      <td>2014-07-29 02:10:44</td>\n",
       "    </tr>\n",
       "    <tr>\n",
       "      <th>2</th>\n",
       "      <td>563905</td>\n",
       "      <td>Kerluke, Reilly and Bechtelar</td>\n",
       "      <td>AS-93055</td>\n",
       "      <td>Shirt</td>\n",
       "      <td>12</td>\n",
       "      <td>24.16</td>\n",
       "      <td>289.92</td>\n",
       "      <td>2014-03-01 10:51:24</td>\n",
       "    </tr>\n",
       "    <tr>\n",
       "      <th>3</th>\n",
       "      <td>93356</td>\n",
       "      <td>Waters-Walker</td>\n",
       "      <td>AS-93055</td>\n",
       "      <td>Shirt</td>\n",
       "      <td>5</td>\n",
       "      <td>82.68</td>\n",
       "      <td>413.40</td>\n",
       "      <td>2013-11-17 20:41:11</td>\n",
       "    </tr>\n",
       "    <tr>\n",
       "      <th>4</th>\n",
       "      <td>659366</td>\n",
       "      <td>Waelchi-Fahey</td>\n",
       "      <td>AS-93055</td>\n",
       "      <td>Shirt</td>\n",
       "      <td>18</td>\n",
       "      <td>99.64</td>\n",
       "      <td>1793.52</td>\n",
       "      <td>2014-01-03 08:14:27</td>\n",
       "    </tr>\n",
       "  </tbody>\n",
       "</table>\n",
       "</div>"
      ],
      "text/plain": [
       "   acct_num                           name       sku category  quantity  \\\n",
       "0    296809                    Carroll PLC  QN-82852     Belt        13   \n",
       "1     98022              Heidenreich-Bosco  MJ-21460    Shoes        19   \n",
       "2    563905  Kerluke, Reilly and Bechtelar  AS-93055    Shirt        12   \n",
       "3     93356                  Waters-Walker  AS-93055    Shirt         5   \n",
       "4    659366                  Waelchi-Fahey  AS-93055    Shirt        18   \n",
       "\n",
       "   unit_price  ext_price                 date  \n",
       "0       44.48     578.24  2014-09-27 07:13:03  \n",
       "1       53.62    1018.78  2014-07-29 02:10:44  \n",
       "2       24.16     289.92  2014-03-01 10:51:24  \n",
       "3       82.68     413.40  2013-11-17 20:41:11  \n",
       "4       99.64    1793.52  2014-01-03 08:14:27  "
      ]
     },
     "execution_count": 4,
     "metadata": {},
     "output_type": "execute_result"
    }
   ],
   "source": [
    "sales.head()"
   ]
  },
  {
   "cell_type": "code",
   "execution_count": 27,
   "metadata": {},
   "outputs": [
    {
     "data": {
      "text/html": [
       "<div>\n",
       "<style>\n",
       "    .dataframe thead tr:only-child th {\n",
       "        text-align: right;\n",
       "    }\n",
       "\n",
       "    .dataframe thead th {\n",
       "        text-align: left;\n",
       "    }\n",
       "\n",
       "    .dataframe tbody tr th {\n",
       "        vertical-align: top;\n",
       "    }\n",
       "</style>\n",
       "<table border=\"1\" class=\"dataframe\">\n",
       "  <thead>\n",
       "    <tr style=\"text-align: right;\">\n",
       "      <th></th>\n",
       "      <th>acct_num</th>\n",
       "      <th>quantity</th>\n",
       "      <th>unit_price</th>\n",
       "      <th>ext_price</th>\n",
       "    </tr>\n",
       "  </thead>\n",
       "  <tbody>\n",
       "    <tr>\n",
       "      <th>count</th>\n",
       "      <td>1000.000000</td>\n",
       "      <td>1000.000000</td>\n",
       "      <td>1000.000000</td>\n",
       "      <td>1000.00000</td>\n",
       "    </tr>\n",
       "    <tr>\n",
       "      <th>mean</th>\n",
       "      <td>535208.897000</td>\n",
       "      <td>10.328000</td>\n",
       "      <td>56.179630</td>\n",
       "      <td>579.84390</td>\n",
       "    </tr>\n",
       "    <tr>\n",
       "      <th>std</th>\n",
       "      <td>277589.746014</td>\n",
       "      <td>5.687597</td>\n",
       "      <td>25.331939</td>\n",
       "      <td>435.30381</td>\n",
       "    </tr>\n",
       "    <tr>\n",
       "      <th>min</th>\n",
       "      <td>93356.000000</td>\n",
       "      <td>1.000000</td>\n",
       "      <td>10.060000</td>\n",
       "      <td>10.38000</td>\n",
       "    </tr>\n",
       "    <tr>\n",
       "      <th>25%</th>\n",
       "      <td>299771.000000</td>\n",
       "      <td>5.750000</td>\n",
       "      <td>35.995000</td>\n",
       "      <td>232.60500</td>\n",
       "    </tr>\n",
       "    <tr>\n",
       "      <th>50%</th>\n",
       "      <td>563905.000000</td>\n",
       "      <td>10.000000</td>\n",
       "      <td>56.765000</td>\n",
       "      <td>471.72000</td>\n",
       "    </tr>\n",
       "    <tr>\n",
       "      <th>75%</th>\n",
       "      <td>750461.000000</td>\n",
       "      <td>15.000000</td>\n",
       "      <td>76.802500</td>\n",
       "      <td>878.13750</td>\n",
       "    </tr>\n",
       "    <tr>\n",
       "      <th>max</th>\n",
       "      <td>995267.000000</td>\n",
       "      <td>20.000000</td>\n",
       "      <td>99.970000</td>\n",
       "      <td>1994.80000</td>\n",
       "    </tr>\n",
       "  </tbody>\n",
       "</table>\n",
       "</div>"
      ],
      "text/plain": [
       "            acct_num     quantity   unit_price   ext_price\n",
       "count    1000.000000  1000.000000  1000.000000  1000.00000\n",
       "mean   535208.897000    10.328000    56.179630   579.84390\n",
       "std    277589.746014     5.687597    25.331939   435.30381\n",
       "min     93356.000000     1.000000    10.060000    10.38000\n",
       "25%    299771.000000     5.750000    35.995000   232.60500\n",
       "50%    563905.000000    10.000000    56.765000   471.72000\n",
       "75%    750461.000000    15.000000    76.802500   878.13750\n",
       "max    995267.000000    20.000000    99.970000  1994.80000"
      ]
     },
     "execution_count": 27,
     "metadata": {},
     "output_type": "execute_result"
    }
   ],
   "source": [
    "sales.describe()"
   ]
  },
  {
   "cell_type": "code",
   "execution_count": 28,
   "metadata": {},
   "outputs": [
    {
     "data": {
      "text/plain": [
       "count    1000.000000\n",
       "mean       56.179630\n",
       "std        25.331939\n",
       "min        10.060000\n",
       "25%        35.995000\n",
       "50%        56.765000\n",
       "75%        76.802500\n",
       "max        99.970000\n",
       "Name: unit_price, dtype: float64"
      ]
     },
     "execution_count": 28,
     "metadata": {},
     "output_type": "execute_result"
    }
   ],
   "source": []
  },
  {
   "cell_type": "code",
   "execution_count": 29,
   "metadata": {},
   "outputs": [
    {
     "data": {
      "text/plain": [
       "acct_num        int64\n",
       "name           object\n",
       "sku            object\n",
       "category       object\n",
       "quantity        int64\n",
       "unit_price    float64\n",
       "ext_price     float64\n",
       "date           object\n",
       "dtype: object"
      ]
     },
     "execution_count": 29,
     "metadata": {},
     "output_type": "execute_result"
    }
   ],
   "source": [
    "sales.dtypes"
   ]
  },
  {
   "cell_type": "code",
   "execution_count": 30,
   "metadata": {},
   "outputs": [
    {
     "data": {
      "text/plain": [
       "Shirt    404\n",
       "Shoes    400\n",
       "Belt     196\n",
       "Name: category, dtype: int64"
      ]
     },
     "execution_count": 30,
     "metadata": {},
     "output_type": "execute_result"
    }
   ],
   "source": [
    "sales['category'].value_counts()"
   ]
  },
  {
   "cell_type": "code",
   "execution_count": 31,
   "metadata": {},
   "outputs": [
    {
     "data": {
      "text/plain": [
       "<matplotlib.axes._subplots.AxesSubplot at 0x1164a2f28>"
      ]
     },
     "execution_count": 31,
     "metadata": {},
     "output_type": "execute_result"
    },
    {
     "data": {
      "image/png": "[encoded data removed]",
      "text/plain": [
       "<matplotlib.figure.Figure at 0x11648f860>"
      ]
     },
     "metadata": {},
     "output_type": "display_data"
    }
   ],
   "source": [
    "sales['category'].value_counts().plot(kind=\"bar\")"
   ]
  },
  {
   "cell_type": "code",
   "execution_count": 34,
   "metadata": {
    "collapsed": true
   },
   "outputs": [],
   "source": [
    "belt_df = sales[['name', 'category', 'quantity', 'unit_price']]\n",
    "belt_df = belt_df[belt_df['category']== 'Belt']"
   ]
  },
  {
   "cell_type": "code",
   "execution_count": 35,
   "metadata": {},
   "outputs": [
    {
     "data": {
      "text/html": [
       "<div>\n",
       "<style>\n",
       "    .dataframe thead tr:only-child th {\n",
       "        text-align: right;\n",
       "    }\n",
       "\n",
       "    .dataframe thead th {\n",
       "        text-align: left;\n",
       "    }\n",
       "\n",
       "    .dataframe tbody tr th {\n",
       "        vertical-align: top;\n",
       "    }\n",
       "</style>\n",
       "<table border=\"1\" class=\"dataframe\">\n",
       "  <thead>\n",
       "    <tr style=\"text-align: right;\">\n",
       "      <th></th>\n",
       "      <th>name</th>\n",
       "      <th>category</th>\n",
       "      <th>quantity</th>\n",
       "      <th>unit_price</th>\n",
       "    </tr>\n",
       "  </thead>\n",
       "  <tbody>\n",
       "    <tr>\n",
       "      <th>0</th>\n",
       "      <td>Carroll PLC</td>\n",
       "      <td>Belt</td>\n",
       "      <td>13</td>\n",
       "      <td>44.48</td>\n",
       "    </tr>\n",
       "    <tr>\n",
       "      <th>11</th>\n",
       "      <td>Hegmann and Sons</td>\n",
       "      <td>Belt</td>\n",
       "      <td>6</td>\n",
       "      <td>13.12</td>\n",
       "    </tr>\n",
       "    <tr>\n",
       "      <th>18</th>\n",
       "      <td>Kihn, McClure and Denesik</td>\n",
       "      <td>Belt</td>\n",
       "      <td>15</td>\n",
       "      <td>69.52</td>\n",
       "    </tr>\n",
       "    <tr>\n",
       "      <th>20</th>\n",
       "      <td>Volkman, Goyette and Lemke</td>\n",
       "      <td>Belt</td>\n",
       "      <td>13</td>\n",
       "      <td>81.19</td>\n",
       "    </tr>\n",
       "    <tr>\n",
       "      <th>23</th>\n",
       "      <td>Berge LLC</td>\n",
       "      <td>Belt</td>\n",
       "      <td>4</td>\n",
       "      <td>57.75</td>\n",
       "    </tr>\n",
       "  </tbody>\n",
       "</table>\n",
       "</div>"
      ],
      "text/plain": [
       "                          name category  quantity  unit_price\n",
       "0                  Carroll PLC     Belt        13       44.48\n",
       "11            Hegmann and Sons     Belt         6       13.12\n",
       "18   Kihn, McClure and Denesik     Belt        15       69.52\n",
       "20  Volkman, Goyette and Lemke     Belt        13       81.19\n",
       "23                   Berge LLC     Belt         4       57.75"
      ]
     },
     "execution_count": 35,
     "metadata": {},
     "output_type": "execute_result"
    }
   ],
   "source": [
    "belt_df.head()"
   ]
  },
  {
   "cell_type": "code",
   "execution_count": 36,
   "metadata": {},
   "outputs": [
    {
     "data": {
      "text/html": [
       "<div>\n",
       "<style>\n",
       "    .dataframe thead tr:only-child th {\n",
       "        text-align: right;\n",
       "    }\n",
       "\n",
       "    .dataframe thead th {\n",
       "        text-align: left;\n",
       "    }\n",
       "\n",
       "    .dataframe tbody tr th {\n",
       "        vertical-align: top;\n",
       "    }\n",
       "</style>\n",
       "<table border=\"1\" class=\"dataframe\">\n",
       "  <thead>\n",
       "    <tr style=\"text-align: right;\">\n",
       "      <th></th>\n",
       "      <th>name</th>\n",
       "      <th>category</th>\n",
       "      <th>quantity</th>\n",
       "      <th>unit_price</th>\n",
       "    </tr>\n",
       "  </thead>\n",
       "  <tbody>\n",
       "    <tr>\n",
       "      <th>612</th>\n",
       "      <td>Waters-Walker</td>\n",
       "      <td>Belt</td>\n",
       "      <td>20</td>\n",
       "      <td>62.39</td>\n",
       "    </tr>\n",
       "    <tr>\n",
       "      <th>802</th>\n",
       "      <td>Senger, Upton and Breitenberg</td>\n",
       "      <td>Belt</td>\n",
       "      <td>20</td>\n",
       "      <td>51.16</td>\n",
       "    </tr>\n",
       "    <tr>\n",
       "      <th>994</th>\n",
       "      <td>Carroll PLC</td>\n",
       "      <td>Belt</td>\n",
       "      <td>20</td>\n",
       "      <td>14.37</td>\n",
       "    </tr>\n",
       "    <tr>\n",
       "      <th>268</th>\n",
       "      <td>Hegmann and Sons</td>\n",
       "      <td>Belt</td>\n",
       "      <td>20</td>\n",
       "      <td>66.27</td>\n",
       "    </tr>\n",
       "    <tr>\n",
       "      <th>853</th>\n",
       "      <td>Berge LLC</td>\n",
       "      <td>Belt</td>\n",
       "      <td>20</td>\n",
       "      <td>25.09</td>\n",
       "    </tr>\n",
       "    <tr>\n",
       "      <th>538</th>\n",
       "      <td>Huel-Haag</td>\n",
       "      <td>Belt</td>\n",
       "      <td>20</td>\n",
       "      <td>58.52</td>\n",
       "    </tr>\n",
       "    <tr>\n",
       "      <th>584</th>\n",
       "      <td>Heidenreich-Bosco</td>\n",
       "      <td>Belt</td>\n",
       "      <td>20</td>\n",
       "      <td>38.39</td>\n",
       "    </tr>\n",
       "    <tr>\n",
       "      <th>505</th>\n",
       "      <td>Cole-Eichmann</td>\n",
       "      <td>Belt</td>\n",
       "      <td>19</td>\n",
       "      <td>39.75</td>\n",
       "    </tr>\n",
       "    <tr>\n",
       "      <th>283</th>\n",
       "      <td>Kunze Inc</td>\n",
       "      <td>Belt</td>\n",
       "      <td>19</td>\n",
       "      <td>75.70</td>\n",
       "    </tr>\n",
       "    <tr>\n",
       "      <th>744</th>\n",
       "      <td>Cole-Eichmann</td>\n",
       "      <td>Belt</td>\n",
       "      <td>19</td>\n",
       "      <td>99.90</td>\n",
       "    </tr>\n",
       "  </tbody>\n",
       "</table>\n",
       "</div>"
      ],
      "text/plain": [
       "                              name category  quantity  unit_price\n",
       "612                  Waters-Walker     Belt        20       62.39\n",
       "802  Senger, Upton and Breitenberg     Belt        20       51.16\n",
       "994                    Carroll PLC     Belt        20       14.37\n",
       "268               Hegmann and Sons     Belt        20       66.27\n",
       "853                      Berge LLC     Belt        20       25.09\n",
       "538                      Huel-Haag     Belt        20       58.52\n",
       "584              Heidenreich-Bosco     Belt        20       38.39\n",
       "505                  Cole-Eichmann     Belt        19       39.75\n",
       "283                      Kunze Inc     Belt        19       75.70\n",
       "744                  Cole-Eichmann     Belt        19       99.90"
      ]
     },
     "execution_count": 36,
     "metadata": {},
     "output_type": "execute_result"
    }
   ],
   "source": [
    "belt_df.sort_values(by='quantity', ascending=False).head(10)"
   ]
  },
  {
   "cell_type": "code",
   "execution_count": 42,
   "metadata": {},
   "outputs": [],
   "source": [
    "belt_df['belt_sales'] = belt_df.quantity * belt_df.unit_price"
   ]
  },
  {
   "cell_type": "code",
   "execution_count": 43,
   "metadata": {},
   "outputs": [
    {
     "data": {
      "text/html": [
       "<div>\n",
       "<style>\n",
       "    .dataframe thead tr:only-child th {\n",
       "        text-align: right;\n",
       "    }\n",
       "\n",
       "    .dataframe thead th {\n",
       "        text-align: left;\n",
       "    }\n",
       "\n",
       "    .dataframe tbody tr th {\n",
       "        vertical-align: top;\n",
       "    }\n",
       "</style>\n",
       "<table border=\"1\" class=\"dataframe\">\n",
       "  <thead>\n",
       "    <tr style=\"text-align: right;\">\n",
       "      <th></th>\n",
       "      <th>name</th>\n",
       "      <th>category</th>\n",
       "      <th>quantity</th>\n",
       "      <th>unit_price</th>\n",
       "      <th>belt_sales</th>\n",
       "    </tr>\n",
       "  </thead>\n",
       "  <tbody>\n",
       "    <tr>\n",
       "      <th>0</th>\n",
       "      <td>Carroll PLC</td>\n",
       "      <td>Belt</td>\n",
       "      <td>13</td>\n",
       "      <td>44.48</td>\n",
       "      <td>578.24</td>\n",
       "    </tr>\n",
       "    <tr>\n",
       "      <th>11</th>\n",
       "      <td>Hegmann and Sons</td>\n",
       "      <td>Belt</td>\n",
       "      <td>6</td>\n",
       "      <td>13.12</td>\n",
       "      <td>78.72</td>\n",
       "    </tr>\n",
       "    <tr>\n",
       "      <th>18</th>\n",
       "      <td>Kihn, McClure and Denesik</td>\n",
       "      <td>Belt</td>\n",
       "      <td>15</td>\n",
       "      <td>69.52</td>\n",
       "      <td>1042.80</td>\n",
       "    </tr>\n",
       "    <tr>\n",
       "      <th>20</th>\n",
       "      <td>Volkman, Goyette and Lemke</td>\n",
       "      <td>Belt</td>\n",
       "      <td>13</td>\n",
       "      <td>81.19</td>\n",
       "      <td>1055.47</td>\n",
       "    </tr>\n",
       "    <tr>\n",
       "      <th>23</th>\n",
       "      <td>Berge LLC</td>\n",
       "      <td>Belt</td>\n",
       "      <td>4</td>\n",
       "      <td>57.75</td>\n",
       "      <td>231.00</td>\n",
       "    </tr>\n",
       "  </tbody>\n",
       "</table>\n",
       "</div>"
      ],
      "text/plain": [
       "                          name category  quantity  unit_price  belt_sales\n",
       "0                  Carroll PLC     Belt        13       44.48      578.24\n",
       "11            Hegmann and Sons     Belt         6       13.12       78.72\n",
       "18   Kihn, McClure and Denesik     Belt        15       69.52     1042.80\n",
       "20  Volkman, Goyette and Lemke     Belt        13       81.19     1055.47\n",
       "23                   Berge LLC     Belt         4       57.75      231.00"
      ]
     },
     "execution_count": 43,
     "metadata": {},
     "output_type": "execute_result"
    }
   ],
   "source": [
    "belt_df.head()"
   ]
  },
  {
   "cell_type": "code",
   "execution_count": 44,
   "metadata": {
    "collapsed": true
   },
   "outputs": [],
   "source": [
    "belts_by_company = belt_df.groupby('name').sum()"
   ]
  },
  {
   "cell_type": "code",
   "execution_count": 45,
   "metadata": {},
   "outputs": [
    {
     "data": {
      "text/html": [
       "<div>\n",
       "<style>\n",
       "    .dataframe thead tr:only-child th {\n",
       "        text-align: right;\n",
       "    }\n",
       "\n",
       "    .dataframe thead th {\n",
       "        text-align: left;\n",
       "    }\n",
       "\n",
       "    .dataframe tbody tr th {\n",
       "        vertical-align: top;\n",
       "    }\n",
       "</style>\n",
       "<table border=\"1\" class=\"dataframe\">\n",
       "  <thead>\n",
       "    <tr style=\"text-align: right;\">\n",
       "      <th></th>\n",
       "      <th>quantity</th>\n",
       "      <th>unit_price</th>\n",
       "      <th>belt_sales</th>\n",
       "    </tr>\n",
       "    <tr>\n",
       "      <th>name</th>\n",
       "      <th></th>\n",
       "      <th></th>\n",
       "      <th></th>\n",
       "    </tr>\n",
       "  </thead>\n",
       "  <tbody>\n",
       "    <tr>\n",
       "      <th>Berge LLC</th>\n",
       "      <td>120</td>\n",
       "      <td>450.96</td>\n",
       "      <td>6033.53</td>\n",
       "    </tr>\n",
       "    <tr>\n",
       "      <th>Carroll PLC</th>\n",
       "      <td>184</td>\n",
       "      <td>733.03</td>\n",
       "      <td>9359.26</td>\n",
       "    </tr>\n",
       "    <tr>\n",
       "      <th>Cole-Eichmann</th>\n",
       "      <td>147</td>\n",
       "      <td>640.67</td>\n",
       "      <td>8112.70</td>\n",
       "    </tr>\n",
       "    <tr>\n",
       "      <th>Davis, Kshlerin and Reilly</th>\n",
       "      <td>33</td>\n",
       "      <td>309.37</td>\n",
       "      <td>1604.13</td>\n",
       "    </tr>\n",
       "    <tr>\n",
       "      <th>Ernser, Cruickshank and Lind</th>\n",
       "      <td>97</td>\n",
       "      <td>564.80</td>\n",
       "      <td>5894.38</td>\n",
       "    </tr>\n",
       "  </tbody>\n",
       "</table>\n",
       "</div>"
      ],
      "text/plain": [
       "                              quantity  unit_price  belt_sales\n",
       "name                                                          \n",
       "Berge LLC                          120      450.96     6033.53\n",
       "Carroll PLC                        184      733.03     9359.26\n",
       "Cole-Eichmann                      147      640.67     8112.70\n",
       "Davis, Kshlerin and Reilly          33      309.37     1604.13\n",
       "Ernser, Cruickshank and Lind        97      564.80     5894.38"
      ]
     },
     "execution_count": 45,
     "metadata": {},
     "output_type": "execute_result"
    }
   ],
   "source": [
    "belts_by_company.head()"
   ]
  },
  {
   "cell_type": "code",
   "execution_count": 46,
   "metadata": {
    "collapsed": true
   },
   "outputs": [],
   "source": [
    "belts_by_company = belt_df.groupby('name', as_index=False).sum()"
   ]
  },
  {
   "cell_type": "code",
   "execution_count": 47,
   "metadata": {},
   "outputs": [
    {
     "data": {
      "text/html": [
       "<div>\n",
       "<style>\n",
       "    .dataframe thead tr:only-child th {\n",
       "        text-align: right;\n",
       "    }\n",
       "\n",
       "    .dataframe thead th {\n",
       "        text-align: left;\n",
       "    }\n",
       "\n",
       "    .dataframe tbody tr th {\n",
       "        vertical-align: top;\n",
       "    }\n",
       "</style>\n",
       "<table border=\"1\" class=\"dataframe\">\n",
       "  <thead>\n",
       "    <tr style=\"text-align: right;\">\n",
       "      <th></th>\n",
       "      <th>name</th>\n",
       "      <th>quantity</th>\n",
       "      <th>unit_price</th>\n",
       "      <th>belt_sales</th>\n",
       "    </tr>\n",
       "  </thead>\n",
       "  <tbody>\n",
       "    <tr>\n",
       "      <th>0</th>\n",
       "      <td>Berge LLC</td>\n",
       "      <td>120</td>\n",
       "      <td>450.96</td>\n",
       "      <td>6033.53</td>\n",
       "    </tr>\n",
       "    <tr>\n",
       "      <th>1</th>\n",
       "      <td>Carroll PLC</td>\n",
       "      <td>184</td>\n",
       "      <td>733.03</td>\n",
       "      <td>9359.26</td>\n",
       "    </tr>\n",
       "    <tr>\n",
       "      <th>2</th>\n",
       "      <td>Cole-Eichmann</td>\n",
       "      <td>147</td>\n",
       "      <td>640.67</td>\n",
       "      <td>8112.70</td>\n",
       "    </tr>\n",
       "    <tr>\n",
       "      <th>3</th>\n",
       "      <td>Davis, Kshlerin and Reilly</td>\n",
       "      <td>33</td>\n",
       "      <td>309.37</td>\n",
       "      <td>1604.13</td>\n",
       "    </tr>\n",
       "    <tr>\n",
       "      <th>4</th>\n",
       "      <td>Ernser, Cruickshank and Lind</td>\n",
       "      <td>97</td>\n",
       "      <td>564.80</td>\n",
       "      <td>5894.38</td>\n",
       "    </tr>\n",
       "  </tbody>\n",
       "</table>\n",
       "</div>"
      ],
      "text/plain": [
       "                           name  quantity  unit_price  belt_sales\n",
       "0                     Berge LLC       120      450.96     6033.53\n",
       "1                   Carroll PLC       184      733.03     9359.26\n",
       "2                 Cole-Eichmann       147      640.67     8112.70\n",
       "3    Davis, Kshlerin and Reilly        33      309.37     1604.13\n",
       "4  Ernser, Cruickshank and Lind        97      564.80     5894.38"
      ]
     },
     "execution_count": 47,
     "metadata": {},
     "output_type": "execute_result"
    }
   ],
   "source": [
    "belts_by_company.head()"
   ]
  },
  {
   "cell_type": "code",
   "execution_count": 50,
   "metadata": {},
   "outputs": [],
   "source": [
    "top_sellers = belts_by_company.sort_values(by='belt_sales', ascending=False).head(10)"
   ]
  },
  {
   "cell_type": "code",
   "execution_count": 51,
   "metadata": {},
   "outputs": [
    {
     "data": {
      "text/html": [
       "<div>\n",
       "<style>\n",
       "    .dataframe thead tr:only-child th {\n",
       "        text-align: right;\n",
       "    }\n",
       "\n",
       "    .dataframe thead th {\n",
       "        text-align: left;\n",
       "    }\n",
       "\n",
       "    .dataframe tbody tr th {\n",
       "        vertical-align: top;\n",
       "    }\n",
       "</style>\n",
       "<table border=\"1\" class=\"dataframe\">\n",
       "  <thead>\n",
       "    <tr style=\"text-align: right;\">\n",
       "      <th></th>\n",
       "      <th>name</th>\n",
       "      <th>quantity</th>\n",
       "      <th>unit_price</th>\n",
       "      <th>belt_sales</th>\n",
       "    </tr>\n",
       "  </thead>\n",
       "  <tbody>\n",
       "    <tr>\n",
       "      <th>11</th>\n",
       "      <td>Kihn, McClure and Denesik</td>\n",
       "      <td>164</td>\n",
       "      <td>724.29</td>\n",
       "      <td>10116.90</td>\n",
       "    </tr>\n",
       "    <tr>\n",
       "      <th>16</th>\n",
       "      <td>Senger, Upton and Breitenberg</td>\n",
       "      <td>171</td>\n",
       "      <td>1033.61</td>\n",
       "      <td>9509.88</td>\n",
       "    </tr>\n",
       "    <tr>\n",
       "      <th>1</th>\n",
       "      <td>Carroll PLC</td>\n",
       "      <td>184</td>\n",
       "      <td>733.03</td>\n",
       "      <td>9359.26</td>\n",
       "    </tr>\n",
       "    <tr>\n",
       "      <th>18</th>\n",
       "      <td>Waelchi-Fahey</td>\n",
       "      <td>149</td>\n",
       "      <td>965.71</td>\n",
       "      <td>8285.72</td>\n",
       "    </tr>\n",
       "    <tr>\n",
       "      <th>2</th>\n",
       "      <td>Cole-Eichmann</td>\n",
       "      <td>147</td>\n",
       "      <td>640.67</td>\n",
       "      <td>8112.70</td>\n",
       "    </tr>\n",
       "    <tr>\n",
       "      <th>8</th>\n",
       "      <td>Heidenreich-Bosco</td>\n",
       "      <td>106</td>\n",
       "      <td>601.04</td>\n",
       "      <td>6262.94</td>\n",
       "    </tr>\n",
       "    <tr>\n",
       "      <th>0</th>\n",
       "      <td>Berge LLC</td>\n",
       "      <td>120</td>\n",
       "      <td>450.96</td>\n",
       "      <td>6033.53</td>\n",
       "    </tr>\n",
       "    <tr>\n",
       "      <th>19</th>\n",
       "      <td>Waters-Walker</td>\n",
       "      <td>83</td>\n",
       "      <td>412.07</td>\n",
       "      <td>5957.24</td>\n",
       "    </tr>\n",
       "    <tr>\n",
       "      <th>4</th>\n",
       "      <td>Ernser, Cruickshank and Lind</td>\n",
       "      <td>97</td>\n",
       "      <td>564.80</td>\n",
       "      <td>5894.38</td>\n",
       "    </tr>\n",
       "    <tr>\n",
       "      <th>13</th>\n",
       "      <td>Koelpin PLC</td>\n",
       "      <td>133</td>\n",
       "      <td>551.83</td>\n",
       "      <td>5327.96</td>\n",
       "    </tr>\n",
       "  </tbody>\n",
       "</table>\n",
       "</div>"
      ],
      "text/plain": [
       "                             name  quantity  unit_price  belt_sales\n",
       "11      Kihn, McClure and Denesik       164      724.29    10116.90\n",
       "16  Senger, Upton and Breitenberg       171     1033.61     9509.88\n",
       "1                     Carroll PLC       184      733.03     9359.26\n",
       "18                  Waelchi-Fahey       149      965.71     8285.72\n",
       "2                   Cole-Eichmann       147      640.67     8112.70\n",
       "8               Heidenreich-Bosco       106      601.04     6262.94\n",
       "0                       Berge LLC       120      450.96     6033.53\n",
       "19                  Waters-Walker        83      412.07     5957.24\n",
       "4    Ernser, Cruickshank and Lind        97      564.80     5894.38\n",
       "13                    Koelpin PLC       133      551.83     5327.96"
      ]
     },
     "execution_count": 51,
     "metadata": {},
     "output_type": "execute_result"
    }
   ],
   "source": [
    "top_sellers"
   ]
  },
  {
   "cell_type": "code",
   "execution_count": 52,
   "metadata": {},
   "outputs": [
    {
     "data": {
      "text/plain": [
       "<matplotlib.text.Text at 0x118eb9240>"
      ]
     },
     "execution_count": 52,
     "metadata": {},
     "output_type": "execute_result"
    },
    {
     "data": {
      "image/png": "[encoded data removed]",
      "text/plain": [
       "<matplotlib.figure.Figure at 0x118e830b8>"
      ]
     },
     "metadata": {},
     "output_type": "display_data"
    }
   ],
   "source": [
    "belt_plot = top_sellers.plot(kind=\"bar\", \n",
    "                             title=\"Total Belt Sales by Company\",\n",
    "                             x=\"name\",\n",
    "                             y=\"belt_sales\")\n",
    "belt_plot.set_xlabel(\"Company Name\")\n",
    "belt_plot.set_ylabel(\"Belts Sold ($)\")"
   ]
  },
  {
   "cell_type": "code",
   "execution_count": null,
   "metadata": {
    "collapsed": true
   },
   "outputs": [],
   "source": []
  }
 ],
 "metadata": {
  "kernelspec": {
   "display_name": "Python 3",
   "language": "python",
   "name": "python3"
  },
  "language_info": {
   "codemirror_mode": {
    "name": "ipython",
    "version": 3
   },
   "file_extension": ".py",
   "mimetype": "text/x-python",
   "name": "python",
   "nbconvert_exporter": "python",
   "pygments_lexer": "ipython3",
   "version": "3.6.1"
  }
 },
 "nbformat": 4,
 "nbformat_minor": 2
}
